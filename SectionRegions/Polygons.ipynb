{
 "cells": [
  {
   "cell_type": "code",
   "execution_count": 11,
   "id": "d115b0a6-a2a1-4ac9-b75a-5579ca02e039",
   "metadata": {},
   "outputs": [],
   "source": [
    "from opensees.render import mpl as render\n",
    "from opensees.section import *\n",
    "import numpy as np"
   ]
  },
  {
   "cell_type": "code",
   "execution_count": 172,
   "id": "98307052-240c-4b50-a4f9-89d124ad2797",
   "metadata": {},
   "outputs": [],
   "source": [
    "def RegularPolygon(Rcol, n):\n",
    "    phi =  2*pi/n\n",
    "    R = Rcol/cos(phi/2)\n",
    "    for i in range(n):\n",
    "        vertices.extend([\n",
    "            [R*cos(i*phi-phi/2),  R*sin(i*phi-phi/2)]\n",
    "        ])\n",
    "    poly = patch._Polygon(vertices)\n",
    "    return poly\n",
    "\n",
    "def PolygonRing(extRad, intRad, n):\n",
    "    psi = 2*pi/n\n",
    "    phi = psi\n",
    "    collection = []\n",
    "    cover_divs = 1,2      # divisions in each slice of the cover\n",
    "    iR1, iR2 = [intRad/cos(pi/n)]*2\n",
    "    oR1, oR2 = [extRad/cos(pi/n)]*2\n",
    "    j = 0\n",
    "    for i in range(n):\n",
    "        startAngle =  (i - 1/2)*psi\n",
    "        # j += 1\n",
    "        sita1  =  startAngle + j*phi   # Slice start angle\n",
    "        sita2  =  sita1 + phi          # Slice end angle\n",
    "        # Cover Patch connects the circular core to the polygonal cover\n",
    "        collection.append(\n",
    "          patch.quad(None, cover_divs,\n",
    "            vertices = [\n",
    "              [   iR1*cos(sita1),    iR1*sin(sita1)],\n",
    "              [   oR1*cos(sita1),    oR1*sin(sita1)],\n",
    "              [   oR2*cos(sita2),    oR2*sin(sita2)],\n",
    "              [   iR2*cos(sita2),    iR2*sin(sita2)],\n",
    "            ]\n",
    "        ))\n",
    "    sect = FiberSection(areas=collection)\n",
    "    sect.extRad = extRad\n",
    "    sect.intRad = intRad\n",
    "    return sect\n",
    "    \n",
    "def ConfiningPolygon(extRad, intRad, n, s=1):\n",
    "    psi = 2*pi/n\n",
    "    phi = psi/s\n",
    "    collection = []\n",
    "    cover_divs = 1,2      # divisions in each slice of the cover\n",
    "    # iR1    =  intRad/cos(pi/n)\n",
    "    # iR2    =  intRad/cos(pi/n)\n",
    "    iR1, iR2 = [intRad]*2\n",
    "\n",
    "    for i in range(n):\n",
    "        startAngle =  (i - 1/2)*psi\n",
    "        for j in range(s):\n",
    "            # j += 1\n",
    "            sita1  =  startAngle + j*phi   # Slice start angle\n",
    "            sita2  =  sita1 + phi          # Slice end angle\n",
    "            oR1    =  extRad/cos(pi/n -  j*phi)\n",
    "            oR2    =  extRad/cos(pi/n - (j+1)*phi)\n",
    "            # iR1    =  intRad/cos(pi/n -  j*phi)\n",
    "            # iR2    =  intRad/cos(pi/n - (j+1)*phi)\n",
    "            # Cover Patch connects the circular core to the polygonal cover\n",
    "            collection.append(\n",
    "              patch.quad(None, cover_divs,\n",
    "                vertices = [\n",
    "                  [   iR1*cos(sita1),    iR1*sin(sita1)],\n",
    "                  [   oR1*cos(sita1),    oR1*sin(sita1)],\n",
    "                  [   oR2*cos(sita2),    oR2*sin(sita2)],\n",
    "                  [   iR2*cos(sita2),    iR2*sin(sita2)],\n",
    "                ]\n",
    "            ))\n",
    "    sect = FiberSection(areas=collection)\n",
    "    sect.extRad = extRad\n",
    "    sect.intRad = intRad\n",
    "    return sect"
   ]
  },
  {
   "cell_type": "code",
   "execution_count": 173,
   "id": "a3c8a6a5-6243-4318-9d9b-f0994ead0cc5",
   "metadata": {},
   "outputs": [
    {
     "data": {
      "image/png": "[encoded data removed]",
      "text/plain": [
       "<Figure size 432x288 with 1 Axes>"
      ]
     },
     "metadata": {
      "needs_background": "light"
     },
     "output_type": "display_data"
    }
   ],
   "source": [
    "n = 8\n",
    "extRad,intRad = 20,15\n",
    "ax = render.section(_oct_ring(extRad, intRad, n))\n",
    "render.section(PolygonRing(extRad, extRad-0.5, n), ax = ax, facecolor=\"g\")\n",
    "# render.section(_oct_ring(extRad-0.010, extRad, n, 1), ax = ax, facecolor=\"g\")\n",
    "# render.section(_oct_ring(extRad, extRad-0.50, n, 1), ax = ax, facecolor=\"r\")\n",
    "# render.section(_oct_ring(extRad, extRad-0.500, n, 2), ax = ax, facecolor=\"b\")\n",
    "# render.section(_oct_ring(extRad, extRad-0.050, n, 3), ax = ax, facecolor=\"r\")\n",
    "# render.section(_oct_ring(extRad, extRad-0.001, n, 3), ax = ax, facecolor=\"b\")\n",
    "render.section(_oct_ring(extRad, intRad, n, 8), ax = ax)\n",
    "\n",
    "ax.plot([0, intRad], [0, 0], \"-x\")\n",
    "ax.plot([0, intRad*np.cos(np.pi/8)],[0, intRad*np.sin(np.pi/8)],\"-x\")\n",
    "ax.plot([0,(extRad-0.05)*np.cos(np.pi/8)],[0,(extRad-0.05)*np.sin(np.pi/8)],\":x\",\"k\")\n",
    "ax.plot([0,(extRad-0.05)*np.cos(0)],[0,(extRad-0.05)*np.sin(0)],\":x\",\"g\")\n",
    "\n",
    "ax.set_xlim([ 0, extRad+1])\n",
    "ax.set_ylim([ 0,  15]);\n",
    "ax.axis(\"on\");"
   ]
  },
  {
   "cell_type": "code",
   "execution_count": 174,
   "id": "42f3a1f2-3472-4fd0-8345-07268d3b2dd9",
   "metadata": {},
   "outputs": [
    {
     "data": {
      "image/png": "[encoded data removed]",
      "text/plain": [
       "<Figure size 432x288 with 1 Axes>"
      ]
     },
     "metadata": {
      "needs_background": "light"
     },
     "output_type": "display_data"
    }
   ],
   "source": [
    "ax = render.section(PolygonRing(extRad, intRad, 8))\n",
    "ax = render.section(PolygonRing(extRad, intRad, 6), ax=ax)"
   ]
  },
  {
   "cell_type": "code",
   "execution_count": null,
   "id": "ccb8b29c-0c2f-44dd-b409-b0bf5ad37927",
   "metadata": {},
   "outputs": [],
   "source": []
  }
 ],
 "metadata": {
  "kernelspec": {
   "display_name": "Python (elle)",
   "language": "python",
   "name": "elle"
  },
  "language_info": {
   "codemirror_mode": {
    "name": "ipython",
    "version": 3
   },
   "file_extension": ".py",
   "mimetype": "text/x-python",
   "name": "python",
   "nbconvert_exporter": "python",
   "pygments_lexer": "ipython3",
   "version": "3.8.12"
  }
 },
 "nbformat": 4,
 "nbformat_minor": 5
}
